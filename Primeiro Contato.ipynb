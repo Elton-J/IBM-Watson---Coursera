{
    "cells": [
        {
            "cell_type": "markdown",
            "metadata": {},
            "source": "## 2010's World Cup Database"
        },
        {
            "cell_type": "code",
            "execution_count": 2,
            "metadata": {},
            "outputs": [
                {
                    "data": {
                        "text/html": "<div>\n<style scoped>\n    .dataframe tbody tr th:only-of-type {\n        vertical-align: middle;\n    }\n\n    .dataframe tbody tr th {\n        vertical-align: top;\n    }\n\n    .dataframe thead th {\n        text-align: right;\n    }\n</style>\n<table border=\"1\" class=\"dataframe\">\n  <thead>\n    <tr style=\"text-align: right;\">\n      <th></th>\n      <th>Atleta</th>\n      <th>Team</th>\n      <th>Position</th>\n      <th>Time</th>\n      <th>Shots</th>\n      <th>Passes</th>\n      <th>Tackles</th>\n      <th>Saves</th>\n    </tr>\n  </thead>\n  <tbody>\n    <tr>\n      <th>0</th>\n      <td>Abdoun</td>\n      <td>Algeria</td>\n      <td>Midfielder</td>\n      <td>16</td>\n      <td>0</td>\n      <td>6</td>\n      <td>0</td>\n      <td>0</td>\n    </tr>\n    <tr>\n      <th>1</th>\n      <td>Abe</td>\n      <td>Japan</td>\n      <td>Midfielder</td>\n      <td>351</td>\n      <td>0</td>\n      <td>101</td>\n      <td>14</td>\n      <td>0</td>\n    </tr>\n    <tr>\n      <th>2</th>\n      <td>Abidal</td>\n      <td>France</td>\n      <td>Defender</td>\n      <td>180</td>\n      <td>0</td>\n      <td>91</td>\n      <td>6</td>\n      <td>0</td>\n    </tr>\n    <tr>\n      <th>3</th>\n      <td>Abou Diaby</td>\n      <td>France</td>\n      <td>Midfielder</td>\n      <td>270</td>\n      <td>1</td>\n      <td>111</td>\n      <td>5</td>\n      <td>0</td>\n    </tr>\n    <tr>\n      <th>4</th>\n      <td>Aboubakar</td>\n      <td>Cameroon</td>\n      <td>Forward</td>\n      <td>46</td>\n      <td>2</td>\n      <td>16</td>\n      <td>0</td>\n      <td>0</td>\n    </tr>\n  </tbody>\n</table>\n</div>",
                        "text/plain": "       Atleta      Team    Position  Time  Shots  Passes  Tackles  Saves\n0      Abdoun   Algeria  Midfielder    16      0       6        0      0\n1         Abe     Japan  Midfielder   351      0     101       14      0\n2      Abidal    France    Defender   180      0      91        6      0\n3  Abou Diaby    France  Midfielder   270      1     111        5      0\n4   Aboubakar  Cameroon     Forward    46      2      16        0      0"
                    },
                    "execution_count": 2,
                    "metadata": {},
                    "output_type": "execute_result"
                }
            ],
            "source": "# The code was removed by Watson Studio for sharing."
        },
        {
            "cell_type": "code",
            "execution_count": null,
            "metadata": {},
            "outputs": [],
            "source": ""
        },
        {
            "cell_type": "code",
            "execution_count": null,
            "metadata": {},
            "outputs": [],
            "source": ""
        }
    ],
    "metadata": {
        "kernelspec": {
            "display_name": "Python 3.6",
            "language": "python",
            "name": "python3"
        },
        "language_info": {
            "codemirror_mode": {
                "name": "ipython",
                "version": 3
            },
            "file_extension": ".py",
            "mimetype": "text/x-python",
            "name": "python",
            "nbconvert_exporter": "python",
            "pygments_lexer": "ipython3",
            "version": "3.6.9"
        }
    },
    "nbformat": 4,
    "nbformat_minor": 1
}